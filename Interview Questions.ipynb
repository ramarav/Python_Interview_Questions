{
 "cells": [
  {
   "cell_type": "markdown",
   "id": "80210b60",
   "metadata": {},
   "source": [
    "# Python Interview Questions"
   ]
  },
  {
   "cell_type": "code",
   "execution_count": 1,
   "id": "4669f592",
   "metadata": {},
   "outputs": [
    {
     "name": "stdout",
     "output_type": "stream",
     "text": [
      "x = 6 and y = 5\n"
     ]
    }
   ],
   "source": [
    "# Swap two numbers\n",
    "x=5\n",
    "y=6\n",
    "x,y = y,x\n",
    "print('x = %d and y = %d'%(x,y))"
   ]
  },
  {
   "cell_type": "code",
   "execution_count": 2,
   "id": "0cec021f",
   "metadata": {},
   "outputs": [
    {
     "name": "stdout",
     "output_type": "stream",
     "text": [
      "Enter a number: 13\n",
      "13 is a prime number\n"
     ]
    }
   ],
   "source": [
    "#Find whether a number is prime\n",
    "# Input the number\n",
    "num = int(input(\"Enter a number: \"))\n",
    "\n",
    "# Start checking from 2\n",
    "if num > 1:\n",
    "   # Check range\n",
    "   for i in range(2,num):\n",
    "        # Perfectly divisible\n",
    "       if (num % i) == 0:\n",
    "           print(num,\"is not a prime number\")\n",
    "           break\n",
    "   else:\n",
    "       print(num,\"is a prime number\")\n",
    "       \n",
    "# the input number is 1 or 0\n",
    "else:\n",
    "   print(num,\"is not a prime number\")"
   ]
  },
  {
   "cell_type": "code",
   "execution_count": null,
   "id": "b13099d3",
   "metadata": {},
   "outputs": [],
   "source": [
    "# Find factorial of a number\n",
    "\n",
    "# Example number\n",
    "num = 7\n",
    "\n",
    "#Initialization\n",
    "factorial = 1\n",
    "\n",
    "# check if the number is negative, positive or zero\n",
    "if num < 0:\n",
    "   print(\"Sorry, factorial does not exist for negative numbers\")\n",
    "elif num == 0:\n",
    "   print(\"The factorial of 0 is 1\")\n",
    "else:\n",
    "   for i in range(1,num + 1):\n",
    "       factorial = factorial*i\n",
    "   print(\"The factorial of\",num,\"is\",factorial)"
   ]
  }
 ],
 "metadata": {
  "kernelspec": {
   "display_name": "Python 3 (ipykernel)",
   "language": "python",
   "name": "python3"
  },
  "language_info": {
   "codemirror_mode": {
    "name": "ipython",
    "version": 3
   },
   "file_extension": ".py",
   "mimetype": "text/x-python",
   "name": "python",
   "nbconvert_exporter": "python",
   "pygments_lexer": "ipython3",
   "version": "3.9.7"
  }
 },
 "nbformat": 4,
 "nbformat_minor": 5
}
