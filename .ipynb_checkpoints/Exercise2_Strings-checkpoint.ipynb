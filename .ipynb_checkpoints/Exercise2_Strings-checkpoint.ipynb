{
 "cells": [
  {
   "cell_type": "raw",
   "id": "cd59a5a0",
   "metadata": {},
   "source": [
    "Python program to check whether the string is Symmetrical or Palindrome\n",
    "\n",
    "Input: khokho\n",
    "Output: \n",
    "The entered string is symmetrical\n",
    "The entered string is not palindrome"
   ]
  },
  {
   "cell_type": "code",
   "execution_count": 1,
   "id": "f5844cb5",
   "metadata": {},
   "outputs": [],
   "source": [
    "def palin_sym(st):\n",
    "    if st[::]==st[::-1]:\n",
    "        print(\"The entered string is palindrome\")\n",
    "    else:\n",
    "        print(\"The entered string is not palindrome\")\n",
    "    "
   ]
  },
  {
   "cell_type": "code",
   "execution_count": 2,
   "id": "6433b36b",
   "metadata": {},
   "outputs": [
    {
     "name": "stdout",
     "output_type": "stream",
     "text": [
      "The entered string is not palindrome\n"
     ]
    }
   ],
   "source": [
    "palin_sym(\"khokho\")"
   ]
  },
  {
   "cell_type": "code",
   "execution_count": 5,
   "id": "3c011388",
   "metadata": {},
   "outputs": [],
   "source": [
    "def sym(st):\n",
    "    n=len(st)\n",
    "    if n%2==0:\n",
    "        half = n/2+1\n",
    "        if st[:half]==st[half:]:\n",
    "            print(\"The entered string is symmetrical\")\n",
    "        else:\n",
    "            print(\"The entered string is not symmetrical\")\n",
    "    else:\n",
    "        print(\"The entered string is not symmetrical\")\n",
    "    "
   ]
  },
  {
   "cell_type": "code",
   "execution_count": null,
   "id": "68cc7761",
   "metadata": {},
   "outputs": [],
   "source": []
  }
 ],
 "metadata": {
  "kernelspec": {
   "display_name": "Python 3 (ipykernel)",
   "language": "python",
   "name": "python3"
  },
  "language_info": {
   "codemirror_mode": {
    "name": "ipython",
    "version": 3
   },
   "file_extension": ".py",
   "mimetype": "text/x-python",
   "name": "python",
   "nbconvert_exporter": "python",
   "pygments_lexer": "ipython3",
   "version": "3.9.7"
  }
 },
 "nbformat": 4,
 "nbformat_minor": 5
}
