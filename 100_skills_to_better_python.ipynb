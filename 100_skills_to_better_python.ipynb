{
 "cells": [
  {
   "cell_type": "markdown",
   "metadata": {},
   "source": [
    "With a given number n, write a program to generate a dictionary that\n",
    "contains (i, i*i) such that i is an number between 1 and n (both included). and\n",
    "then the program should print the dictionary."
   ]
  },
  {
   "cell_type": "code",
   "execution_count": 4,
   "metadata": {},
   "outputs": [
    {
     "name": "stdout",
     "output_type": "stream",
     "text": [
      "Please enter a number10\n",
      "Your dictionary is : {1: 1, 2: 4, 3: 9, 4: 16, 5: 25, 6: 36, 7: 49, 8: 64, 9: 81, 10: 100}\n"
     ]
    }
   ],
   "source": [
    "n=int(input(\"Please enter a number\"))\n",
    "myDict={}\n",
    "for i in range(1,n+1):\n",
    "    myDict[i]=i*i\n",
    "print(f'Your dictionary is : {myDict}')"
   ]
  },
  {
   "cell_type": "markdown",
   "metadata": {},
   "source": [
    "Write a program which accepts a sequence of comma-separated\n",
    "numbers from console/user and generates a list and a tuple which contains every\n",
    "number."
   ]
  },
  {
   "cell_type": "code",
   "execution_count": 7,
   "metadata": {},
   "outputs": [
    {
     "name": "stdout",
     "output_type": "stream",
     "text": [
      "Please enter comma seperated numbers1,2.5,76,4,90,2\n",
      "The list generated from input sequence is ['1', '2.5', '76', '4', '90', '2']\n",
      "The tuple generated from input sequence is ('1', '2.5', '76', '4', '90', '2')\n"
     ]
    }
   ],
   "source": [
    "sequense = input('Please enter comma seperated numbers')\n",
    "myList=sequense.split(\",\")\n",
    "print(f\"The list generated from input sequence is {myList}\")\n",
    "myTuple = tuple(myList)\n",
    "print(f\"The tuple generated from input sequence is {myTuple}\")"
   ]
  },
  {
   "cell_type": "markdown",
   "metadata": {},
   "source": [
    "Write a program which will find all the numbers which are divisible by\n",
    "7 but are not a multiple of 5, between 1000 and 1500 (both included). The\n",
    "numbers obtained should be printed in a comma-separated sequence on a single\n",
    "line."
   ]
  },
  {
   "cell_type": "code",
   "execution_count": 16,
   "metadata": {},
   "outputs": [
    {
     "data": {
      "text/plain": [
       "'1001,1008,1022,1029,1036,1043,1057,1064,1071,1078,1092,1099,1106,1113,1127,1134,1141,1148,1162,1169,1176,1183,1197,1204,1211,1218,1232,1239,1246,1253,1267,1274,1281,1288,1302,1309,1316,1323,1337,1344,1351,1358,1372,1379,1386,1393,1407,1414,1421,1428,1442,1449,1456,1463,1477,1484,1491,1498'"
      ]
     },
     "execution_count": 16,
     "metadata": {},
     "output_type": "execute_result"
    }
   ],
   "source": [
    "myList=[]\n",
    "for i in range(1000,1501):\n",
    "    if i%7==0 and i%5!=0:\n",
    "        myList.append(str(i))\n",
    "finalList=\",\".join(myList)\n",
    "finalList"
   ]
  },
  {
   "cell_type": "markdown",
   "metadata": {},
   "source": [
    "Define a function which can compute the sum of two numbers."
   ]
  },
  {
   "cell_type": "code",
   "execution_count": 17,
   "metadata": {},
   "outputs": [
    {
     "data": {
      "text/plain": [
       "9"
      ]
     },
     "execution_count": 17,
     "metadata": {},
     "output_type": "execute_result"
    }
   ],
   "source": [
    "def sum_of_two(num1,num2):\n",
    "    return num1+num2\n",
    "sum_of_two(4,5)"
   ]
  },
  {
   "cell_type": "markdown",
   "metadata": {},
   "source": [
    "Define a function that can receive two integral numbers in string form\n",
    "and compute their sum and then print it in console."
   ]
  },
  {
   "cell_type": "code",
   "execution_count": 18,
   "metadata": {},
   "outputs": [],
   "source": [
    "#Same as above"
   ]
  },
  {
   "cell_type": "markdown",
   "metadata": {},
   "source": [
    "Write a program which can compute the given factorial of a number."
   ]
  },
  {
   "cell_type": "code",
   "execution_count": 29,
   "metadata": {},
   "outputs": [
    {
     "name": "stdout",
     "output_type": "stream",
     "text": [
      "Please enter a number5\n",
      "The factorial is : 120\n"
     ]
    }
   ],
   "source": [
    "def fact(n):\n",
    "    if n==1 or n==0:\n",
    "        return 1\n",
    "    return n*fact(n-1)\n",
    "x=int(input(\"Please enter a number\"))\n",
    "print (f\"The factorial is : {fact(x)}\")\n"
   ]
  },
  {
   "cell_type": "markdown",
   "metadata": {},
   "source": [
    "Use list comprehension to square each odd number in a list. The list is\n",
    "input by a sequence of comma-separated numbers."
   ]
  },
  {
   "cell_type": "code",
   "execution_count": 38,
   "metadata": {},
   "outputs": [
    {
     "name": "stdout",
     "output_type": "stream",
     "text": [
      "Please enter a list in comma seperated values1,2,3,4\n"
     ]
    },
    {
     "data": {
      "text/plain": [
       "'1,9'"
      ]
     },
     "execution_count": 38,
     "metadata": {},
     "output_type": "execute_result"
    }
   ],
   "source": [
    "list1=input(\"Please enter a list in comma seperated values\")\n",
    "values=[str(int(x)**2) for x in list1.split(\",\") if (int(x)%2!=0)]\n",
    "myList=\",\".join(values)\n",
    "myList"
   ]
  },
  {
   "cell_type": "markdown",
   "metadata": {},
   "source": [
    "Write a program to roll a dice and get a random output (1-6)"
   ]
  },
  {
   "cell_type": "code",
   "execution_count": 52,
   "metadata": {},
   "outputs": [
    {
     "name": "stdout",
     "output_type": "stream",
     "text": [
      "The dice values are : (3, 6)\n"
     ]
    }
   ],
   "source": [
    "import random\n",
    "dice_value1 = random.randint(1,6)\n",
    "dice_value2 = random.randint(1,6)\n",
    "print(f\"The dice values are : {dice_value1,dice_value2}\")"
   ]
  },
  {
   "cell_type": "code",
   "execution_count": null,
   "metadata": {},
   "outputs": [],
   "source": []
  }
 ],
 "metadata": {
  "kernelspec": {
   "display_name": "Python 3",
   "language": "python",
   "name": "python3"
  },
  "language_info": {
   "codemirror_mode": {
    "name": "ipython",
    "version": 3
   },
   "file_extension": ".py",
   "mimetype": "text/x-python",
   "name": "python",
   "nbconvert_exporter": "python",
   "pygments_lexer": "ipython3",
   "version": "3.7.6"
  }
 },
 "nbformat": 4,
 "nbformat_minor": 4
}
