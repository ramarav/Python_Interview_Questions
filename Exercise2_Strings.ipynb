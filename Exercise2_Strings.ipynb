{
 "cells": [
  {
   "cell_type": "raw",
   "id": "15346c93",
   "metadata": {},
   "source": [
    "Python program to check whether the string is Symmetrical or Palindrome\n",
    "\n",
    "Input: khokho\n",
    "Output: \n",
    "The entered string is symmetrical\n",
    "The entered string is not palindrome"
   ]
  },
  {
   "cell_type": "code",
   "execution_count": 1,
   "id": "8ceafc20",
   "metadata": {},
   "outputs": [],
   "source": [
    "def palin_sym(st):\n",
    "    if st[::]==st[::-1]:\n",
    "        print(\"The entered string is palindrome\")\n",
    "    else:\n",
    "        print(\"The entered string is not palindrome\")\n",
    "    "
   ]
  },
  {
   "cell_type": "code",
   "execution_count": 2,
   "id": "dde14a98",
   "metadata": {},
   "outputs": [
    {
     "name": "stdout",
     "output_type": "stream",
     "text": [
      "The entered string is not palindrome\n"
     ]
    }
   ],
   "source": [
    "palin_sym(\"khokho\")"
   ]
  },
  {
   "cell_type": "code",
   "execution_count": 34,
   "id": "e40dd827",
   "metadata": {},
   "outputs": [],
   "source": [
    "def sym(st):\n",
    "    n=int(len(st))\n",
    "    if n%2==0:\n",
    "        half = int(n/2)\n",
    "        if st[:half]==st[half:]:\n",
    "            print(\"The entered string is symmetrical\")\n",
    "        else:\n",
    "            print(\"The entered string is not symmetrical\")\n",
    "    else:\n",
    "        print(\"The entered string is not symmetrical\")\n",
    "    "
   ]
  },
  {
   "cell_type": "code",
   "execution_count": 35,
   "id": "c67da6ee",
   "metadata": {},
   "outputs": [],
   "source": [
    "strin=\"khokho\""
   ]
  },
  {
   "cell_type": "code",
   "execution_count": 36,
   "id": "28c9194d",
   "metadata": {},
   "outputs": [
    {
     "name": "stdout",
     "output_type": "stream",
     "text": [
      "The entered string is symmetrical\n"
     ]
    }
   ],
   "source": [
    "sym(strin)"
   ]
  },
  {
   "cell_type": "code",
   "execution_count": 37,
   "id": "55de8310",
   "metadata": {},
   "outputs": [],
   "source": [
    "def palin_sym(st):\n",
    "    if st[::]==st[::-1]:\n",
    "        print(\"The entered string is palindrome\")\n",
    "    else:\n",
    "        print(\"The entered string is not palindrome\")\n",
    "    n=int(len(st))\n",
    "    if n%2==0:\n",
    "        half = int(n/2)\n",
    "        if st[:half]==st[half:]:\n",
    "            print(\"The entered string is symmetrical\")\n",
    "        else:\n",
    "            print(\"The entered string is not symmetrical\")\n",
    "    else:\n",
    "        print(\"The entered string is not symmetrical\")"
   ]
  },
  {
   "cell_type": "code",
   "execution_count": 38,
   "id": "a9970296",
   "metadata": {},
   "outputs": [
    {
     "name": "stdout",
     "output_type": "stream",
     "text": [
      "The entered string is not palindrome\n",
      "The entered string is symmetrical\n"
     ]
    }
   ],
   "source": [
    "strin=\"khokho\"\n",
    "palin_sym(strin)"
   ]
  },
  {
   "cell_type": "code",
   "execution_count": 39,
   "id": "040f5690",
   "metadata": {},
   "outputs": [
    {
     "name": "stdout",
     "output_type": "stream",
     "text": [
      "The entered string is palindrome\n",
      "The entered string is not symmetrical\n"
     ]
    }
   ],
   "source": [
    "string2=\"malayalam\"\n",
    "palin_sym(string2)"
   ]
  },
  {
   "cell_type": "code",
   "execution_count": 40,
   "id": "809e44e2",
   "metadata": {},
   "outputs": [
    {
     "name": "stdout",
     "output_type": "stream",
     "text": [
      "The entered string is not palindrome\n",
      "The entered string is not symmetrical\n"
     ]
    }
   ],
   "source": [
    "strin3=\"khotkho\"\n",
    "palin_sym(strin3)"
   ]
  },
  {
   "cell_type": "raw",
   "id": "053b2f3e",
   "metadata": {},
   "source": [
    "Reverse words in a given String in Python\n",
    "\n",
    "Input : str = geeks quiz practice code\n",
    "Output : str = code practice quiz geeks"
   ]
  },
  {
   "cell_type": "code",
   "execution_count": 42,
   "id": "4f49b66e",
   "metadata": {},
   "outputs": [
    {
     "data": {
      "text/plain": [
       "['geeks', 'quiz', 'practice', 'code']"
      ]
     },
     "execution_count": 42,
     "metadata": {},
     "output_type": "execute_result"
    }
   ],
   "source": [
    "st = \"geeks quiz practice code\"\n",
    "li1=st.split(\" \")\n",
    "li1"
   ]
  },
  {
   "cell_type": "code",
   "execution_count": 43,
   "id": "20cf94c6",
   "metadata": {},
   "outputs": [
    {
     "data": {
      "text/plain": [
       "['code', 'practice', 'quiz', 'geeks']"
      ]
     },
     "execution_count": 43,
     "metadata": {},
     "output_type": "execute_result"
    }
   ],
   "source": [
    "li2=li1[::-1]\n",
    "li2"
   ]
  },
  {
   "cell_type": "code",
   "execution_count": 44,
   "id": "8fd102bc",
   "metadata": {},
   "outputs": [
    {
     "data": {
      "text/plain": [
       "'code practice quiz geeks'"
      ]
     },
     "execution_count": 44,
     "metadata": {},
     "output_type": "execute_result"
    }
   ],
   "source": [
    "st2=(\" \").join(li2)\n",
    "st2"
   ]
  },
  {
   "cell_type": "code",
   "execution_count": 46,
   "id": "eedd4a2b",
   "metadata": {},
   "outputs": [],
   "source": [
    "def word_rev(st):\n",
    "    li1=st.split(\" \")\n",
    "    li2=li1[::-1]\n",
    "    st2=(\" \").join(li2)\n",
    "    return st2"
   ]
  },
  {
   "cell_type": "code",
   "execution_count": 47,
   "id": "fe411ca9",
   "metadata": {},
   "outputs": [
    {
     "data": {
      "text/plain": [
       "'code practice quiz geeks'"
      ]
     },
     "execution_count": 47,
     "metadata": {},
     "output_type": "execute_result"
    }
   ],
   "source": [
    "mystr = \"geeks quiz practice code\"\n",
    "word_rev(mystr)"
   ]
  },
  {
   "cell_type": "raw",
   "id": "3661b5cb",
   "metadata": {},
   "source": [
    "Avoid Spaces in string length\n",
    "Input : test_str = ‘mekala ramarao’\n",
    "Output : 13"
   ]
  },
  {
   "cell_type": "code",
   "execution_count": 51,
   "id": "7062c288",
   "metadata": {},
   "outputs": [],
   "source": [
    "def len_nospace(st):\n",
    "    res=sum(not item.isspace() for item in st)\n",
    "    return res"
   ]
  },
  {
   "cell_type": "code",
   "execution_count": 52,
   "id": "50064a1c",
   "metadata": {},
   "outputs": [
    {
     "data": {
      "text/plain": [
       "13"
      ]
     },
     "execution_count": 52,
     "metadata": {},
     "output_type": "execute_result"
    }
   ],
   "source": [
    "test_str = 'mekala ramarao'\n",
    "len_nospace(test_str)"
   ]
  },
  {
   "cell_type": "code",
   "execution_count": null,
   "id": "d8ab0516",
   "metadata": {},
   "outputs": [],
   "source": [
    "li =list(wikipedia.summary(\"facebook\"))\n",
    "new_li=li[:100]"
   ]
  },
  {
   "cell_type": "code",
   "execution_count": null,
   "id": "53584369",
   "metadata": {},
   "outputs": [],
   "source": []
  },
  {
   "cell_type": "code",
   "execution_count": 54,
   "id": "fb684710",
   "metadata": {},
   "outputs": [],
   "source": [
    "summary='Avoid Spaces in string length. Input : test_str = ‘mekala ramarao’. Output : 13.'"
   ]
  },
  {
   "cell_type": "code",
   "execution_count": 55,
   "id": "e14ea99c",
   "metadata": {},
   "outputs": [
    {
     "data": {
      "text/plain": [
       "['Avoid Spaces in string length',\n",
       " ' Input : test_str = ‘mekala ramarao’',\n",
       " ' Output : 13',\n",
       " '']"
      ]
     },
     "execution_count": 55,
     "metadata": {},
     "output_type": "execute_result"
    }
   ],
   "source": [
    "li=summary.split(\".\")\n",
    "li"
   ]
  },
  {
   "cell_type": "code",
   "execution_count": 57,
   "id": "f3ee672d",
   "metadata": {},
   "outputs": [
    {
     "data": {
      "text/plain": [
       "'Avoid Spaces in string length'"
      ]
     },
     "execution_count": 57,
     "metadata": {},
     "output_type": "execute_result"
    }
   ],
   "source": [
    "summary=li[0]\n",
    "summary"
   ]
  },
  {
   "cell_type": "code",
   "execution_count": null,
   "id": "612c86cf",
   "metadata": {},
   "outputs": [],
   "source": []
  }
 ],
 "metadata": {
  "kernelspec": {
   "display_name": "Python 3 (ipykernel)",
   "language": "python",
   "name": "python3"
  },
  "language_info": {
   "codemirror_mode": {
    "name": "ipython",
    "version": 3
   },
   "file_extension": ".py",
   "mimetype": "text/x-python",
   "name": "python",
   "nbconvert_exporter": "python",
   "pygments_lexer": "ipython3",
   "version": "3.9.7"
  }
 },
 "nbformat": 4,
 "nbformat_minor": 5
}
